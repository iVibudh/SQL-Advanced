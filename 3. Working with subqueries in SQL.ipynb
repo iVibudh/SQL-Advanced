{
 "cells": [
  {
   "cell_type": "markdown",
   "metadata": {},
   "source": [
    "## Objectives\n",
    "\n",
    "subqueries are queries embedded in a query. It could return a single value, a single row/column, or an entire table. \n",
    "\n",
    "subwueries should be in pranthesis (). Always use order by in the outer query. BETWEEN does not work with a query but could work with a query\n",
    "\n",
    "- Use subqueries in the WHERE clause\n",
    "- Use subqueries in the FROM clause\n",
    "- Use subqueries in the SELECT clause"
   ]
  },
  {
   "cell_type": "markdown",
   "metadata": {},
   "source": [
    "## 2. Subqueries in WHERE clause\n",
    "\n",
    "-- select emplowees which are not managers\n",
    "\n",
    "__SELECT * from employees__\n",
    "\n",
    "__WHERE emp_no NOT IN (SELECT emp_no FROM dept_manager);__"
   ]
  },
  {
   "cell_type": "markdown",
   "metadata": {},
   "source": [
    "-- Retrieve a list of all managers that were \n",
    "-- employed between 1st January, 1990 and 1st January, 1995\n",
    "\n",
    "__SELECT * FROM dept_manager__\n",
    "\n",
    "__WHERE emp_no IN (SELECT emp_no FROM employees__\n",
    "\n",
    "&emsp;&emsp;&emsp;&emsp;&emsp;__WHERE hire_date BETWEEN '1990-01-01' AND '1995-01-01')__"
   ]
  },
  {
   "cell_type": "markdown",
   "metadata": {},
   "source": [
    "## 3. Subqueries in FROM clause"
   ]
  },
  {
   "cell_type": "markdown",
   "metadata": {},
   "source": [
    "__SELECT *__\n",
    "\n",
    "__FROM (SELECT * FROM customers WHERE region = 'South') a__"
   ]
  },
  {
   "cell_type": "markdown",
   "metadata": {},
   "source": [
    "## 4. Subquery in the SELECT clause"
   ]
  },
  {
   "cell_type": "markdown",
   "metadata": {},
   "source": [
    "-- Retrive first_name, last_name and company_avg_salary of all employees\n",
    "\n",
    "__SELECT first_name, last_name, (SELECT ROUND(AVG(salary), 2) FROM salaries) AS company_avg_salary__\n",
    "\n",
    "__FROM employees;__\n"
   ]
  },
  {
   "cell_type": "markdown",
   "metadata": {},
   "source": [
    "-- Find the avg_salary exclude outlier salaries (highest and lowest)\n",
    "\n",
    "\n",
    "__SELECT ROUND(AVG(SALARY), 2) avg_salary__\n",
    "\n",
    "__FROM (SELECT salary FROM salaries__\n",
    "\n",
    "&emsp;&emsp;&emsp;&emsp; __WHERE salary NOT IN ((SELECT MIN(salary) IN salaries),__\n",
    "\n",
    "&emsp;&emsp;&emsp;&emsp;&emsp;&emsp;&emsp;&emsp;&emsp;&emsp;&emsp;&emsp;&emsp;&emsp;&emsp;&emsp;__(SELECT MAX(salary) IN salaries))__\n",
    "\n",
    "-- use LIMIT in sub query to remove multiple outliers"
   ]
  },
  {
   "cell_type": "code",
   "execution_count": null,
   "metadata": {},
   "outputs": [],
   "source": []
  },
  {
   "cell_type": "code",
   "execution_count": null,
   "metadata": {},
   "outputs": [],
   "source": []
  }
 ],
 "metadata": {
  "kernelspec": {
   "display_name": "Python 3",
   "language": "python",
   "name": "python3"
  },
  "language_info": {
   "codemirror_mode": {
    "name": "ipython",
    "version": 3
   },
   "file_extension": ".py",
   "mimetype": "text/x-python",
   "name": "python",
   "nbconvert_exporter": "python",
   "pygments_lexer": "ipython3",
   "version": "3.8.5"
  }
 },
 "nbformat": 4,
 "nbformat_minor": 4
}
